{
 "cells": [
  {
   "cell_type": "markdown",
   "id": "e0f32743",
   "metadata": {},
   "source": [
    "# Introduction to Geopandas, Matplotlib, Contextily and GIS\n",
    "\n",
    "### In this lesson, we will:\n",
    "\n",
    " - Learn about different types of geographic data: point data and polygon data\n",
    " - Learn about Census Geographies or the levels at which data can be grouped and analyzed \n",
    " - Continue to practice dataframe wrangling and merging, this time specifically with merging dataframes to shapefiles\n",
    " - Practice mapping datasets at the county, census tract, and point level \n",
    " - Make multiple map layers and combien them in one visualization using contextily for baselayers and labels, and adding polygon and point data over them"
   ]
  },
  {
   "cell_type": "markdown",
   "id": "34739e8d",
   "metadata": {},
   "source": [
    "# GIS Data Types"
   ]
  },
  {
   "cell_type": "code",
   "execution_count": null,
   "id": "aeaf5512",
   "metadata": {},
   "outputs": [],
   "source": [
    "from IPython.display import Image\n",
    "from IPython.core.display import HTML \n",
    "Image(url= \"https://www.arcgis.com/sharing/rest/content/items/58593bfc09c741a0b67dd81c22a914e3/info/thumbnail/ago_downloaded.png/?w=800\")"
   ]
  },
  {
   "cell_type": "markdown",
   "id": "9512a39f",
   "metadata": {},
   "source": [
    "## Point Data: Individual Cases of Something"
   ]
  },
  {
   "cell_type": "code",
   "execution_count": null,
   "id": "ae8d06eb",
   "metadata": {},
   "outputs": [],
   "source": [
    "Image(url= \"https://tpwd.texas.gov/gis/data/baselayers/citypts/image\")"
   ]
  },
  {
   "cell_type": "code",
   "execution_count": null,
   "id": "5e1f1749",
   "metadata": {},
   "outputs": [],
   "source": [
    "Image(url= \"https://www.esri.com/arcgis-blog/wp-content/uploads/2018/02/05-fig-5-6-v2.png\")"
   ]
  },
  {
   "cell_type": "markdown",
   "id": "8133c31c",
   "metadata": {},
   "source": [
    "## Polygon Data: Shape Files"
   ]
  },
  {
   "cell_type": "code",
   "execution_count": null,
   "id": "2ee119de",
   "metadata": {},
   "outputs": [],
   "source": [
    "Image(url= \"https://www.sheriffstx.org/templates/sheriffstx.org/images/tx_county_map.gif\")"
   ]
  },
  {
   "cell_type": "markdown",
   "id": "3452d92f",
   "metadata": {},
   "source": [
    "## Chloropleth Maps"
   ]
  },
  {
   "cell_type": "code",
   "execution_count": null,
   "id": "0cd440fe",
   "metadata": {},
   "outputs": [],
   "source": [
    "Image(url= \"https://public.tableau.com/static/images/Te/TexasCounts2020CensusLandscapeMap/Sheet1/1_rss.png\")"
   ]
  },
  {
   "cell_type": "markdown",
   "id": "5ee7e041",
   "metadata": {},
   "source": [
    "# The Hierarchy of Census Geographies"
   ]
  },
  {
   "cell_type": "markdown",
   "id": "25560d8d",
   "metadata": {},
   "source": [
    "<img src=\"../images/census_geography_hierarchy_labelled.png\" width=700 height=700 />"
   ]
  },
  {
   "cell_type": "markdown",
   "id": "56c8361f",
   "metadata": {},
   "source": [
    "## FIPS Geo-Identifier Codes"
   ]
  },
  {
   "cell_type": "markdown",
   "id": "e38b6bd0",
   "metadata": {},
   "source": [
    "<img src=\"../images/fips_code_explainer.png\" width=700 height=700 />"
   ]
  },
  {
   "cell_type": "markdown",
   "id": "01125506",
   "metadata": {},
   "source": [
    "Let's begin by loading in all the relevant libraries we're going to use "
   ]
  },
  {
   "cell_type": "code",
   "execution_count": null,
   "id": "a53784bf",
   "metadata": {},
   "outputs": [],
   "source": [
    "import pandas as pd\n",
    "import csv\n",
    "import numpy as np\n",
    "import math\n",
    "from IPython.display import Image, display\n",
    "import geopandas as gpd\n",
    "\n",
    "import matplotlib.pyplot as plt\n",
    "\n",
    "%matplotlib inline\n",
    "from shapely.geometry import Point, Polygon\n",
    "from geopandas import datasets, GeoDataFrame, read_file\n",
    "\n",
    "#importing contextily library which adds raster basemaps from open street maps, experimenting with adding these\n",
    "#to our maps, playing with zoom and other functions to see what baselayer detail we can get\n",
    "\n",
    "import contextily as cx"
   ]
  },
  {
   "cell_type": "markdown",
   "id": "594608e1",
   "metadata": {},
   "source": [
    "### We're going to download the County and Census Tract Shapefiles from the US Census Bureau's [TIGER/LIne Database](https://www.census.gov/geographies/mapping-files/time-series/geo/tiger-line-file.html)"
   ]
  },
  {
   "cell_type": "code",
   "execution_count": null,
   "id": "1b50ad01",
   "metadata": {},
   "outputs": [],
   "source": [
    "#load in the Tiger/Line Place shapefile for the state of Texas, read it using geopandas\n",
    "ct = \"../data/tl_2021_48_tract/tl_2021_48_tract.shp\"\n",
    "data = gpd.read_file(ct)"
   ]
  },
  {
   "cell_type": "code",
   "execution_count": null,
   "id": "50e1368e",
   "metadata": {},
   "outputs": [],
   "source": [
    "data"
   ]
  },
  {
   "cell_type": "code",
   "execution_count": null,
   "id": "2906c10d",
   "metadata": {},
   "outputs": [],
   "source": [
    "#Check the data types of each column to help with merging later on\n",
    "data.dtypes"
   ]
  },
  {
   "cell_type": "markdown",
   "id": "1405eb0e",
   "metadata": {},
   "source": [
    "We can see that the GEOID column, where out fips code for merging is stored, is an object/string data type. We're going to need to convert it to int64 dtype for merging."
   ]
  },
  {
   "cell_type": "code",
   "execution_count": null,
   "id": "85f0b67b",
   "metadata": {},
   "outputs": [],
   "source": [
    "#Write a function that will convert the 'str' fips code to 'int64' for merging, we use int64 because it can handle\n",
    "#NaN data whereas 'int' cannot\n",
    "\n",
    "def fips_2_int(df,fips_col,new_col):\n",
    "        df[new_col] = [int(x) if type(x)==str else \n",
    "                       (np.nan if math.isnan(x)==True else(int(x) if type(x)==float else int(x))) \n",
    "                       for x in df[fips_col]]\n",
    "        df[new_col] = df[new_col].astype('Int64')\n",
    "        return df"
   ]
  },
  {
   "cell_type": "code",
   "execution_count": null,
   "id": "e5dec72a",
   "metadata": {
    "scrolled": true
   },
   "outputs": [],
   "source": [
    "fips_2_int(data,'GEOID','FIPS_int64')"
   ]
  },
  {
   "cell_type": "markdown",
   "id": "e5faf7e7",
   "metadata": {},
   "source": [
    "Our shapefile is reayd for merging, however, is it ready for subsetting and grouping at the county-level moving forward?"
   ]
  },
  {
   "cell_type": "code",
   "execution_count": null,
   "id": "40059073",
   "metadata": {},
   "outputs": [],
   "source": [
    "#Use list comprehension to take the geoid column, which has the full 11 digit fips code down to the county level,\n",
    "#taking all but the last 5 of the 11 digits\n",
    "\n",
    "county_fips = []\n",
    "\n",
    "for x in data['GEOID']:\n",
    "    county_fips.append(x[:5])\n",
    "    \n",
    "data['county_fips'] = county_fips"
   ]
  },
  {
   "cell_type": "code",
   "execution_count": null,
   "id": "1292d4e4",
   "metadata": {},
   "outputs": [],
   "source": [
    "data.head()"
   ]
  },
  {
   "cell_type": "markdown",
   "id": "7c1c2ef1",
   "metadata": {},
   "source": [
    "__Exercise #1__ -- How could you have arrived at the same output using the STATEFP and COUNTYFP columns? If you have the time, practice creating a new column with the 5-digit county fips from these two columns below."
   ]
  },
  {
   "cell_type": "code",
   "execution_count": null,
   "id": "70292a78",
   "metadata": {},
   "outputs": [],
   "source": [
    "#Exercise 1 code\n",
    "\n",
    "\n"
   ]
  },
  {
   "cell_type": "code",
   "execution_count": null,
   "id": "6b499915",
   "metadata": {},
   "outputs": [],
   "source": [
    "#Check the crs or projection type for this census tract shapefile\n",
    "data.crs"
   ]
  },
  {
   "cell_type": "markdown",
   "id": "5f748da4",
   "metadata": {},
   "source": [
    "# CDC Social Vulnerability Index Data - 2018"
   ]
  },
  {
   "cell_type": "code",
   "execution_count": null,
   "id": "0d12d2a9",
   "metadata": {},
   "outputs": [],
   "source": [
    "#Read in the cdc social vulnerability data already subset for Texas Census Tracts \n",
    "svi = pd.read_csv('../data/svi_texas_census_tracts.csv')"
   ]
  },
  {
   "cell_type": "code",
   "execution_count": null,
   "id": "d3a5bbf2",
   "metadata": {},
   "outputs": [],
   "source": [
    "svi"
   ]
  },
  {
   "cell_type": "code",
   "execution_count": null,
   "id": "8c43c5d5",
   "metadata": {},
   "outputs": [],
   "source": [
    "#Check the number of columns and what variables they contain\n",
    "svi.columns"
   ]
  },
  {
   "cell_type": "markdown",
   "id": "f6d6e192",
   "metadata": {},
   "source": [
    "There are way too many variables in there that may not be useful for our analysis and mapping, go through the codebook to see what variable names are associated with what data, and decide what we want to keep\n",
    "\n",
    "Since we are keeping a lot of data, we can make different lists of variables we want to keep grouped by variable type. That way we could make separare dataframes for each variable type, or concatenate them together."
   ]
  },
  {
   "cell_type": "code",
   "execution_count": null,
   "id": "dc1cf7b6",
   "metadata": {},
   "outputs": [],
   "source": [
    "dem_var = ['FIPS','AREA_SQMI','E_TOTPOP','E_HU','E_HH','E_POV','EP_POV','E_UNEMP','EP_UNEMP',\n",
    "                     'E_PCI','E_NOHSDP','EP_NOHSDP','E_AGE65','EP_AGE65','E_AGE17','EP_AGE17','E_DISABL',\n",
    "                     'EP_DISABL',\"E_SNGPNT\",'EP_SNGPNT','E_MINRTY','EP_MINRTY','E_LIMENG','EP_LIMENG',\n",
    "                  'E_MUNIT','EP_MUNIT','E_MOBILE','EP_MOBILE','E_CROWD','EP_CROWD','E_NOVEH','EP_NOVEH','E_GROUPQ',\n",
    "                  'EP_GROUPQ']\n",
    "\n",
    "vul_index_var = ['RPL_THEME1','RPL_THEME2','RPL_THEME3','RPL_THEME4','RPL_THEMES','F_THEME1','F_THEME2',\n",
    "                'F_THEME3','F_THEME4','F_TOTAL']\n",
    "\n",
    "adjunct_var = ['E_UNINSUR','EP_UNINSUR','E_DAYPOP'] "
   ]
  },
  {
   "cell_type": "code",
   "execution_count": null,
   "id": "378755cc",
   "metadata": {},
   "outputs": [],
   "source": [
    "#Add or concatenate these variable groups together\n",
    "svi_var = dem_var+vul_index_var+adjunct_var"
   ]
  },
  {
   "cell_type": "code",
   "execution_count": null,
   "id": "f4e48e84",
   "metadata": {},
   "outputs": [],
   "source": [
    "#USe the filter function to only keep the columns/variables of interest\n",
    "svi_clean = svi.filter(svi_var,axis=1)"
   ]
  },
  {
   "cell_type": "code",
   "execution_count": null,
   "id": "47de72ea",
   "metadata": {},
   "outputs": [],
   "source": [
    "svi_clean"
   ]
  },
  {
   "cell_type": "code",
   "execution_count": null,
   "id": "db01ffea",
   "metadata": {},
   "outputs": [],
   "source": [
    "svi_clean.dtypes"
   ]
  },
  {
   "cell_type": "code",
   "execution_count": null,
   "id": "0d645d42",
   "metadata": {},
   "outputs": [],
   "source": [
    "#svi_geo_tracts = svi_clean.merge(data, left_on='FIPS', right_on='FIPS_int64', how='left')\n",
    "svi_geo_tracts = svi_clean.merge(data, left_on='FIPS', right_on='FIPS_int64', how='outer')"
   ]
  },
  {
   "cell_type": "markdown",
   "id": "d5d888b1",
   "metadata": {},
   "source": [
    "The documentation for the SVI tells us that all missing data is coded as \"-999\", not NaN like is necessary for python. This will throw off all the analyses and maps we make from this dataset if we don't chnage it. "
   ]
  },
  {
   "cell_type": "code",
   "execution_count": null,
   "id": "32da80c0",
   "metadata": {},
   "outputs": [],
   "source": [
    "#Subset the df to include only values with -999\n",
    "svi_geo_tracts[svi_geo_tracts[\"F_TOTAL\"]==-999]"
   ]
  },
  {
   "cell_type": "code",
   "execution_count": null,
   "id": "096da093",
   "metadata": {},
   "outputs": [],
   "source": [
    "#Went through svi_geo_tracts df to turn -999 values (what svi used to designate missing data) to np.nan to add them to \n",
    "#the missing data category.Otherwise they skew the quantiles for all ther following Cloropleth Maps. \n",
    "\n",
    "svi_geo_tracts = svi_geo_tracts.replace(-999, np.NaN)"
   ]
  },
  {
   "cell_type": "code",
   "execution_count": null,
   "id": "27e072e6",
   "metadata": {},
   "outputs": [],
   "source": [
    "#Check for -999 values to make sure we replaced all of them\n",
    "svi_geo_tracts[svi_geo_tracts[\"F_TOTAL\"]==-999]"
   ]
  },
  {
   "cell_type": "code",
   "execution_count": null,
   "id": "ac25285f",
   "metadata": {},
   "outputs": [],
   "source": [
    "#Take the df and turn it into a geo-df using the geopandas GeoDataFrame function, telling the function what the \n",
    "#crs is and telling it to take the df's geometry column as the geometry to be mapped\n",
    "svi_gdf = gpd.GeoDataFrame(svi_geo_tracts, crs=\"EPSG:4269\", geometry='geometry')"
   ]
  },
  {
   "cell_type": "code",
   "execution_count": null,
   "id": "84b08768",
   "metadata": {},
   "outputs": [],
   "source": [
    "#Use the plot function without any arguments to make the simplest plot of our data, this will take only the \n",
    "#data stored in the geometry column, strictly the \n",
    "svi_gdf.plot()"
   ]
  },
  {
   "cell_type": "markdown",
   "id": "63cef81f",
   "metadata": {},
   "source": [
    "The plot function has multiple arguments we can use to add information to our map and customize it.\n",
    "\n",
    "Function Arguments:\n",
    "- __column__: choose which data column/variable you want to map onto your chosen geography\n",
    "- __figsize__: set the size of the reuslting map\n",
    "- __cmap__: tells matplotlib to make a cloropleth map and tells it what color gradient set to use to show variation\n",
    "- __scheme__: sets how color changes across the gradient for the chosen variable are represented. Can be by quantiles in the data, by natural breaks, or by manually set data ranges. \n",
    "- __edgecolor__: sets the color of the outline of the geometry you are mapping, both polygon and point\n",
    "- __alpha__: sets the level of transparency for your map layer, useful if you have basemap of roads and buildings underneath, or using multiple layers to allow data to be seen at multiple levels. Lower number = more transparent.\n",
    "- __legend__: adds a legend to your cloropleth map telling what variable data rnage is associated with each color on the map"
   ]
  },
  {
   "cell_type": "code",
   "execution_count": null,
   "id": "a564219a",
   "metadata": {},
   "outputs": [],
   "source": [
    "#Make a cloropleth map of the SVI Index's measure of total vulnerability percentage\n",
    "\n",
    "ax = svi_gdf.plot(column='RPL_THEMES',\n",
    "                   figsize=(15, 10),\n",
    "                   cmap='OrRd',\n",
    "                   scheme='quantiles',\n",
    "                   edgecolor='black',\n",
    "                        alpha=0.7,\n",
    "                   legend=True\n",
    "                 )"
   ]
  },
  {
   "cell_type": "markdown",
   "id": "0f17a3fc",
   "metadata": {},
   "source": [
    "__Exercise #2__ -- Try making a cloropleth map using a different column and using the \"Blues\" or \"RdPu\" color gradient sets below."
   ]
  },
  {
   "cell_type": "code",
   "execution_count": null,
   "id": "6e44db5f",
   "metadata": {},
   "outputs": [],
   "source": [
    "#Exercise 2 code\n",
    "\n",
    "\n"
   ]
  },
  {
   "cell_type": "markdown",
   "id": "082e682b",
   "metadata": {},
   "source": [
    "The last map had a lot of information and gives a rough idea of where vulnerability is high in the state. However, it is still pretty messy, which missing census tracts, a graphing axis which isn't present in maps, and no title.\n",
    "\n",
    "We can deal with these issue by using the __missing_kwds, .suptitle, .title, and .axis__ arguments/functions."
   ]
  },
  {
   "cell_type": "code",
   "execution_count": null,
   "id": "282d5d58",
   "metadata": {},
   "outputs": [],
   "source": [
    "ax = svi_gdf.plot(column='RPL_THEMES',\n",
    "                        zorder=2,\n",
    "                   figsize=(15, 10),\n",
    "                   cmap='OrRd',\n",
    "                   scheme='quantiles',\n",
    "                   edgecolor='black',\n",
    "                        alpha=0.7,\n",
    "                   legend=True,\n",
    "                   missing_kwds={\n",
    "        \"color\": \"lightgrey\",\n",
    "        \"edgecolor\": \"red\",\n",
    "                       \"alpha\":0.4,\n",
    "        \"hatch\": \"///\",\n",
    "        \"label\": \"Missing values\",\n",
    "    })\n",
    "\n",
    "plt.suptitle('Social Vulnerability Index for State of Texas',y=.94, fontsize=25)\n",
    "plt.title('Total Vulnerability Themes Percentile by Census Tract')\n",
    "\n",
    "ax.axis('off')"
   ]
  },
  {
   "cell_type": "markdown",
   "id": "5f4cd703",
   "metadata": {},
   "source": [
    "What do we do if we want to zoom in and look at a specific area on the map in more detail? Say an MSA or county?\n",
    "\n",
    "To do this, we just need to use dataframe subsetting/slicing methods we have learned before and use them on the fips code identifiers."
   ]
  },
  {
   "cell_type": "code",
   "execution_count": null,
   "id": "94d59623",
   "metadata": {},
   "outputs": [],
   "source": [
    "five_counties = svi_gdf[(svi_gdf['county_fips']=='48453')|(svi_gdf['county_fips']=='48021')|\n",
    "                        (svi_gdf['county_fips']=='48055')|(svi_gdf['county_fips']=='48209')|\n",
    "                        (svi_gdf['county_fips']=='48491')]\n",
    "\n",
    "#travis = 48453\n",
    "#bastrop = 48021\n",
    "#caldwell = 48055\n",
    "#hays = 48209\n",
    "#williamson = 48491\n",
    "\n",
    "#travis_county.boundary.plot()\n",
    "five_counties.plot(column='RPL_THEMES',figsize=(15, 10),cmap='OrRd',scheme='quantiles', edgecolor='black',\n",
    "                   legend=True, missing_kwds={\"color\": \"lightgrey\",\n",
    "        \"edgecolor\": \"red\",\n",
    "                       \"alpha\":0.4,\n",
    "        \"hatch\": \"///\",\n",
    "        \"label\": \"Missing values\",})"
   ]
  },
  {
   "cell_type": "markdown",
   "id": "eae9193f",
   "metadata": {},
   "source": [
    "So now we only see the Central Texas /Austin MSA 5-County Area. However, we don't know where the census tracts fall in terms of each county. What if we wanted to add county boundaries so we can see where those breaks are?"
   ]
  },
  {
   "cell_type": "markdown",
   "id": "da22e3e0",
   "metadata": {},
   "source": [
    "Read in county shapefiles to overlay as a boundary layer over the svi data at the census tract level, highlight separations between five counties."
   ]
  },
  {
   "cell_type": "code",
   "execution_count": null,
   "id": "40379dc7",
   "metadata": {},
   "outputs": [],
   "source": [
    "county_shp = \"../data/tl_2021_us_county/tl_2021_us_county.shp\"\n",
    "data_2 = gpd.read_file(county_shp)"
   ]
  },
  {
   "cell_type": "code",
   "execution_count": null,
   "id": "525b8844",
   "metadata": {},
   "outputs": [],
   "source": [
    "fips_2_int(data_2,'GEOID','FIPS_int64')"
   ]
  },
  {
   "cell_type": "code",
   "execution_count": null,
   "id": "5456742f",
   "metadata": {},
   "outputs": [],
   "source": [
    "data_2.plot()"
   ]
  },
  {
   "cell_type": "code",
   "execution_count": null,
   "id": "4561c908",
   "metadata": {},
   "outputs": [],
   "source": [
    "five_county_shp = data_2[(data_2[\"FIPS_int64\"]==48453)|(data_2[\"FIPS_int64\"]==48021)|\n",
    "                        (data_2[\"FIPS_int64\"]==48055)|(data_2[\"FIPS_int64\"]==48209)|\n",
    "                        (data_2[\"FIPS_int64\"]==48491)]"
   ]
  },
  {
   "cell_type": "code",
   "execution_count": null,
   "id": "c859fc29",
   "metadata": {},
   "outputs": [],
   "source": [
    "five_county_shp = five_county_shp.to_crs(epsg=3857)"
   ]
  },
  {
   "cell_type": "code",
   "execution_count": null,
   "id": "9dec56d7",
   "metadata": {},
   "outputs": [],
   "source": [
    "five_county_shp.plot(facecolor='none',edgecolor='black',linewidth=3)"
   ]
  },
  {
   "cell_type": "markdown",
   "id": "cd6c9f13",
   "metadata": {},
   "source": [
    "Let's add this 5-county boundary layer to the SVI map we made above."
   ]
  },
  {
   "cell_type": "code",
   "execution_count": null,
   "id": "85084471",
   "metadata": {},
   "outputs": [],
   "source": [
    "plt.figure()\n",
    "\n",
    "five_counties = five_counties.to_crs(epsg=3857)\n",
    "five_county_shp = five_county_shp.to_crs(epsg=3857)\n",
    "\n",
    "base = five_counties.plot(column='F_TOTAL',figsize=(20, 15),cmap='OrRd',scheme='natural_breaks', edgecolor='black',\n",
    "                          legend=True,\n",
    "                         missing_kwds={\n",
    "        \"color\": \"lightgrey\",\n",
    "        \"edgecolor\": \"red\",\n",
    "                       \"alpha\":0.2,\n",
    "        \"hatch\": \"///\",\n",
    "        \"label\": \"Missing values\"})\n",
    "\n",
    "full = five_county_shp.plot(ax=base,facecolor='none',edgecolor='black',linewidth=3)\n",
    "\n",
    "full.set_axis_off()\n",
    "plt.suptitle('Social Vulnerability Index for Central Texas Five-County Region',y=.93, fontsize=25)\n",
    "plt.title('Total Vulnerability Flags by Census Tract')\n",
    "\n",
    "#plt.savefig('../images/ct5_svi_total_flags.jpg')"
   ]
  },
  {
   "cell_type": "markdown",
   "id": "956b577b",
   "metadata": {},
   "source": [
    "# Community Partners Point Data\n",
    "\n",
    "We played around with and successfully mapped polygon data of Social Vulnerability above. What if we wanted to see how well medical service providers partnered with Dell Medical School are meeting their mission of treating vulnerable and underserved populations in the community? \n",
    "\n",
    "If we had point data of where these medical service providers and clinics were located, we could look for where there are gaps in service provision (high vulnerability and no providers) that could help guide future provider site selection and outreach."
   ]
  },
  {
   "cell_type": "markdown",
   "id": "dd2bb48d",
   "metadata": {},
   "source": [
    "Read in manually scraped community health partners excel sheet to map"
   ]
  },
  {
   "cell_type": "code",
   "execution_count": null,
   "id": "cab163d3",
   "metadata": {},
   "outputs": [],
   "source": [
    "#Coming from excel sheet we created, setting index_column at 0, and specifying what datatype we want\n",
    "#specific columns in\n",
    "\n",
    "com_partners = pd.read_excel('../data/dell_med-community_partners_geo.xlsx', index_col=0,\n",
    "                             dtype={'name': str, 'address': str, 'provider':str,'lat-lon':str,'sub-type':str})"
   ]
  },
  {
   "cell_type": "code",
   "execution_count": null,
   "id": "ac73189c",
   "metadata": {},
   "outputs": [],
   "source": [
    "com_partners"
   ]
  },
  {
   "cell_type": "code",
   "execution_count": null,
   "id": "4a4e9a17",
   "metadata": {},
   "outputs": [],
   "source": [
    "#We need to take the lat-lon column, break it into separate lat and lon columns in preperation for turning them \n",
    "#into geometries for mapping\n",
    "\n",
    "lat = []\n",
    "lon = []\n",
    "\n",
    "for x in com_partners['lat-lon']:\n",
    "    y = x.split(\", \")\n",
    "    lat.append(y[0])\n",
    "    lon.append(y[1])\n",
    "    \n",
    "com_partners['lat']= lat\n",
    "com_partners['lon']= lon\n",
    "\n",
    "com_partners"
   ]
  },
  {
   "cell_type": "code",
   "execution_count": null,
   "id": "a3a7c295",
   "metadata": {},
   "outputs": [],
   "source": [
    "#Make a geometry column from the the dataframe from the geo_ident 'lon' and 'lat columns'\n",
    "#This will give you the coordinates of each community saved as a point type of geometry which can be plotted in GIS\n",
    "\n",
    "com_partners_geo = gpd.GeoDataFrame(\n",
    "    com_partners, geometry=gpd.points_from_xy(com_partners.lon, com_partners.lat,crs=4269))\n",
    "\n",
    "com_partners_geo"
   ]
  },
  {
   "cell_type": "markdown",
   "id": "791d8435",
   "metadata": {},
   "source": [
    "Make a point-data map of the community partners data using the same plot function and arguments from above"
   ]
  },
  {
   "cell_type": "code",
   "execution_count": null,
   "id": "e2401e36",
   "metadata": {},
   "outputs": [],
   "source": [
    "com_partners_geo.plot(column=com_partners_geo['provider'], markersize=40, legend=True, figsize=(15,10),\n",
    "                      categorical=True, cmap='Paired')"
   ]
  },
  {
   "cell_type": "markdown",
   "id": "08e19af6",
   "metadata": {},
   "source": [
    "While this is interesting to see the spread of these points, there's no other geographic information in this layer to help us devleop any insights from the spatial distribution of these community partners. This is where adding multiple layers to a map comes in.\n",
    "\n",
    "If we could add in a raster basemap layer (think google maps) under these points, we could see where these points are located relative to highways, citieis and neighborhoods in Austin, TX. \n",
    "\n",
    "To add a baselayer, we will use the contextily package we loaded in earlier as cx. Contextily has a whole library of different baselayers and label styles we can draw from; however, it is important to know that all these baselayers are set in a crs or projection of 3857. So any layers we want to add cx baselayers to need to be in the same crs.   "
   ]
  },
  {
   "cell_type": "code",
   "execution_count": null,
   "id": "4bdd97ec",
   "metadata": {},
   "outputs": [],
   "source": [
    "#Set the crs for this point layer to 3857 so it works with contextily basemaps\n",
    "com_partners_geo = com_partners_geo.to_crs(epsg=3857)\n",
    "\n",
    "partners = com_partners_geo.plot(column=com_partners_geo['provider'],zorder=3, markersize=120, legend=True, \n",
    "                                 figsize=(15,10),\n",
    "                                 categorical=True, cmap='Paired', edgecolor='black')\n",
    "\n",
    "#USe contextily .add_basemap function to call in basemaps, adding them to the partners plot, and setting their \n",
    "#\"zoom\" level\n",
    "cx.add_basemap(partners,zorder=1,zoom=11, source=cx.providers.Stamen.Toner)\n",
    "cx.add_basemap(partners,zorder=2,zoom=1, source=cx.providers.Stamen.TonerLabels)\n",
    "\n",
    "partners.axis('off')"
   ]
  },
  {
   "cell_type": "markdown",
   "id": "e8a19de4",
   "metadata": {},
   "source": [
    "__Exercise #3__: Try changing around the zorder of the map layers and see what happens. Play around with the zoom level as well to see exactly what zoom does and find the best level of zoom for making this map visually useful. \n",
    "\n",
    "Change the baselayer and label type as well using the following code:\n",
    "- cx.add_basemap(ax,zorder=1,zoom=11, source=cx.providers.Stamen.Watercolor)\n",
    "- cx.add_basemap(ax,zorder=1,zoom=10, source=cx.providers.CartoDB.Voyager)\n",
    "\n",
    "- cx.add_basemap(ax,zorder=1,zoom=11, source=cx.providers.Stamen.WatercolorLabels)\n",
    "- cx.add_basemap(ax,zorder=1,zoom=10, source=cx.providers.CartoDB.VoyagerLabels)"
   ]
  },
  {
   "cell_type": "code",
   "execution_count": null,
   "id": "8da47f63",
   "metadata": {},
   "outputs": [],
   "source": [
    "#Exercise #3 Code\n",
    "\n",
    "\n"
   ]
  },
  {
   "cell_type": "markdown",
   "id": "8e979f41",
   "metadata": {},
   "source": [
    "Now let's add the SVI census tract layer from above to see whether these community partners are located in areas of high social vulnerability, their stated mission. "
   ]
  },
  {
   "cell_type": "code",
   "execution_count": null,
   "id": "ec0a135f",
   "metadata": {},
   "outputs": [],
   "source": [
    "five_counties = five_counties.to_crs(epsg=3857)\n",
    "five_county_shp = five_county_shp.to_crs(epsg=3857)\n",
    "com_partners_geo = com_partners_geo.to_crs(epsg=3857)\n",
    "\n",
    "plt.figure()\n",
    "\n",
    "base = five_counties.plot(column='F_TOTAL',zorder=2, figsize=(20, 15),cmap='OrRd',scheme='natural_breaks', \n",
    "                          edgecolor='black',\n",
    "                          legend=True,\n",
    "                         missing_kwds={\n",
    "        \"color\": \"lightgrey\",\n",
    "        \"edgecolor\": \"red\",\n",
    "                       \"alpha\":0.2,\n",
    "        \"hatch\": \"///\",\n",
    "        \"label\": \"Missing values\"})\n",
    "\n",
    "full = five_county_shp.plot(ax=base,zorder=3,facecolor='none',edgecolor='black',linewidth=3)\n",
    "\n",
    "partners = com_partners_geo.plot(ax=full,zorder=5, column=com_partners_geo['provider'], markersize=80, legend=True,\n",
    "                                 categorical=True, cmap='Paired', edgecolor='black')\n",
    "\n",
    "full.set_axis_off()\n",
    "plt.suptitle('Social Vulnerability Index for Central Texas Five-County Region',y=.93, fontsize=25)\n",
    "plt.title('Total Vulnerability Flags by Census Tract and Plotted Community Partners')\n",
    "\n",
    "cx.add_basemap(partners,zorder=1,zoom=11, source=cx.providers.Stamen.Toner)\n",
    "cx.add_basemap(partners,zorder=4,zoom=10, source=cx.providers.Stamen.TonerLabels)\n",
    "\n",
    "ax.axis('off')\n",
    "\n",
    "#plt.savefig('../images/ct5_svi_total_flags_cpartners_basemap.jpg')"
   ]
  },
  {
   "cell_type": "markdown",
   "id": "91d905d2",
   "metadata": {},
   "source": [
    "What insights can we glean from this map?"
   ]
  }
 ],
 "metadata": {
  "kernelspec": {
   "display_name": "Python 3 (ipykernel)",
   "language": "python",
   "name": "python3"
  },
  "language_info": {
   "codemirror_mode": {
    "name": "ipython",
    "version": 3
   },
   "file_extension": ".py",
   "mimetype": "text/x-python",
   "name": "python",
   "nbconvert_exporter": "python",
   "pygments_lexer": "ipython3",
   "version": "3.8.8"
  }
 },
 "nbformat": 4,
 "nbformat_minor": 5
}
